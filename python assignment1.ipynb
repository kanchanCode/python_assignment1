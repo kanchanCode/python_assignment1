{
 "cells": [
  {
   "cell_type": "markdown",
   "id": "44e76b98",
   "metadata": {},
   "source": [
    "1. 3 values('hello',-87.8,6), 4 expressions(*,-,/,+) \n",
    "\n",
    "2. String(collection of characters) is a datatype and it is used to record the text information such as name. It is defined        with single('), double(\") or triple quotes(\"\"\").\n",
    "   Variable is a reserved memory location to store values and variable is deifned through assignment.\n",
    "  \n",
    "   A string is a type of value which can be stored in variable\n",
    "  \n",
    "  \n",
    "3. There are diferent types of datatypes like integer, string, boolean, float etc\n",
    "\n",
    "   Integer - Integer datatype is used to store integer/numeric value.\n",
    "   a=123\n",
    "\n",
    "   string- String(collection of characters) is a datatype and it is used to record the text information such as name.It is        defined with single('), double(\") or triple quotes(\"\"\").\n",
    "   a =\"name\"\n",
    "\n",
    "   Boolean -Boolean can be defined by typing True/False without quotes\n",
    "   a=true\n",
    "\n",
    "4. Expressions are combinations of operators, constants and variables which is always evaluate down to a single value.\n",
    "   a=1+2\n",
    "   a is a variable\n",
    "   = is assignment operator\n",
    "   + is arithmetic operator\n",
    "   \n",
    "5. An expression is a line of code that evaluates to a value. e.g. a+b , a/b etc whereas a statement is an instruction that        does something. e.g. a = 5, c = 7+6\n",
    "\n",
    "6. Variable bacon will contain 22.\n",
    "\n",
    "7. 'spam'+'spamspam'\n",
    "   'spamspamspam'\n",
    "   \n",
    "   'spam'*3\n",
    "   'spamspamspam'\n",
    "   \n",
    "8. eggs is a valid variable name whereas 100 is invalid because a variable name should not start with integer.\n",
    "\n",
    "9. int() for integer\n",
    "   float() for float\n",
    "   str() for string\n",
    "   \n",
    "10. 'I have eaten' + 99 + 'burritos'\n",
    "     'I have eaten' is a string \n",
    "     99 is a integer\n",
    "     'burritos' is a string \n",
    "     For concatenation datatype should be same \n",
    "     error- type error\n",
    "     solution-\n",
    "     'I have eaten' + '99' + 'burritos\n",
    "     enclose 99 with quotes to change it's datatype to string "
   ]
  }
 ],
 "metadata": {
  "kernelspec": {
   "display_name": "Python 3",
   "language": "python",
   "name": "python3"
  },
  "language_info": {
   "codemirror_mode": {
    "name": "ipython",
    "version": 3
   },
   "file_extension": ".py",
   "mimetype": "text/x-python",
   "name": "python",
   "nbconvert_exporter": "python",
   "pygments_lexer": "ipython3",
   "version": "3.8.8"
  },
  "widgets": {
   "application/vnd.jupyter.widget-state+json": {
    "state": {},
    "version_major": 2,
    "version_minor": 0
   }
  }
 },
 "nbformat": 4,
 "nbformat_minor": 5
}
